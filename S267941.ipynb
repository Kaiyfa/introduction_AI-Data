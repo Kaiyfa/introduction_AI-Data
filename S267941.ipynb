{
 "cells": [
  {
   "cell_type": "markdown",
   "id": "f94886da",
   "metadata": {},
   "source": [
    "# Introduction to AI and Data Science Assessment"
   ]
  },
  {
   "cell_type": "markdown",
   "id": "6f613f00",
   "metadata": {},
   "source": [
    "## 1) Task 1: Search Problems"
   ]
  },
  {
   "cell_type": "markdown",
   "id": "3ce2d83f-466c-40ad-8ae6-dc24a4a6558c",
   "metadata": {},
   "source": [
    "### a) Define the search problem"
   ]
  },
  {
   "cell_type": "markdown",
   "id": "de06f02d-a707-48e9-8339-6a03c565c2dd",
   "metadata": {},
   "source": [
    "Represent the map structure as a graph using a dictionary where the keys are city names and the values are dictionaries of connected cites with their respective distances.\n",
    "The goal state is defined, to find the least distance route from Ipswich to Newcastle."
   ]
  },
  {
   "cell_type": "code",
   "execution_count": 128,
   "id": "429bd8ae-446d-40d2-9d09-bfa97d32c703",
   "metadata": {},
   "outputs": [
    {
     "name": "stdout",
     "output_type": "stream",
     "text": [
      "{'Birmingham': {'Bristol': 142, 'Cambridge': 162, 'Liverpool': 151, 'London': 189, 'Manchester': 135, 'Sheffield': 119}, 'Bristol': {'Birmingham': 142, 'London': 190}, 'Cambridge': {'Birmingham': 162, 'Ipswich': 87, 'London': 89, 'Norwich': 102}, 'Ipswich': {'Cambridge': 87, 'London': 128, 'Norwich': 70}, 'Leeds': {'Manchester': 67, 'Sheffield': 56, 'Newcastle': 160}, 'Liverpool': {'Birmingham': 151, 'Manchester': 55}, 'London': {'Birmingham': 189, 'Bristol': 190, 'Cambridge': 89, 'Ipswich': 128, 'Sheffield': 269}, 'Manchester': {'Birmingham': 135, 'Leeds': 67, 'Liverpool': 55, 'Sheffield': 61}, 'Newcastle': {'Leeds': 160}, 'Norwich': {'Cambridge': 102, 'Ipswich': 70}, 'Sheffield': {'Birmingham': 119, 'Leeds': 56, 'Manchester': 61, 'London': 269}}\n"
     ]
    }
   ],
   "source": [
    "# Represent the map structure as a graph\n",
    "\n",
    "# Add the necessary packages\n",
    "\n",
    "import math\n",
    "import time\n",
    "from collections import deque\n",
    "import pandas as pd\n",
    "import heapq\n",
    "\n",
    "\n",
    "# Define the map as a graph\n",
    "\n",
    "city_graph = {\n",
    "    \"Birmingham\": {\"Bristol\": 142, \"Cambridge\": 162, \"Liverpool\": 151, \"London\": 189, \"Manchester\": 135, \"Sheffield\": 119},\n",
    "    \"Bristol\": {\"Birmingham\": 142, \"London\": 190},\n",
    "    \"Cambridge\": {\"Birmingham\": 162, \"Ipswich\": 87, \"London\": 89, \"Norwich\": 102},\n",
    "    \"Ipswich\": {\"Cambridge\": 87, \"London\": 128, \"Norwich\": 70},\n",
    "    \"Leeds\": {\"Manchester\": 67, \"Sheffield\": 56, \"Newcastle\": 160},\n",
    "    \"Liverpool\": {\"Birmingham\": 151, \"Manchester\": 55},\n",
    "    \"London\": {\"Birmingham\": 189, \"Bristol\": 190, \"Cambridge\": 89, \"Ipswich\": 128, \"Sheffield\": 269},\n",
    "    \"Manchester\": {\"Birmingham\": 135, \"Leeds\": 67, \"Liverpool\": 55, \"Sheffield\": 61},\n",
    "    \"Newcastle\": {\"Leeds\": 160},\n",
    "    \"Norwich\": {\"Cambridge\": 102, \"Ipswich\": 70},\n",
    "    \"Sheffield\": {\"Birmingham\": 119, \"Leeds\": 56, \"Manchester\": 61, \"London\": 269}\n",
    "}\n",
    "\n",
    "print(city_graph)\n"
   ]
  },
  {
   "cell_type": "markdown",
   "id": "9269d9a7-12c6-4511-b6ac-af5a6b92eaed",
   "metadata": {},
   "source": [
    "### b) Implement Three Search Algorithms"
   ]
  },
  {
   "cell_type": "markdown",
   "id": "63570b17",
   "metadata": {},
   "source": [
    "#### Algorithm 1: Depth-First Search (DFS)"
   ]
  },
  {
   "cell_type": "code",
   "execution_count": 129,
   "id": "05aa6f6b",
   "metadata": {},
   "outputs": [],
   "source": [
    "# Algorithm code\n",
    "def dfs(graph, start, goal):\n",
    "    stack = [(start, [start])]\n",
    "    visited = set()\n",
    "\n",
    "    while stack:\n",
    "        (vertex, path) = stack.pop()\n",
    "        if vertex not in visited:\n",
    "            if vertex == goal:\n",
    "                return path\n",
    "            visited.add(vertex)\n",
    "            for neighbor in graph[vertex]:\n",
    "                stack.append((neighbor, path + [neighbor]))\n",
    "    return None\n"
   ]
  },
  {
   "cell_type": "code",
   "execution_count": 130,
   "id": "517265cd",
   "metadata": {},
   "outputs": [
    {
     "name": "stdout",
     "output_type": "stream",
     "text": [
      "DFS Path: ['Ipswich', 'Norwich', 'Cambridge', 'London', 'Sheffield', 'Manchester', 'Leeds', 'Newcastle']\n"
     ]
    }
   ],
   "source": [
    "# Apply to the chosen search problem\n",
    "path_dfs = dfs(city_graph, \"Ipswich\", \"Newcastle\")\n",
    "print(\"DFS Path:\", path_dfs)"
   ]
  },
  {
   "cell_type": "markdown",
   "id": "50602399",
   "metadata": {},
   "source": [
    "#### Algorithm 2: Breadth-First Search (BFS)"
   ]
  },
  {
   "cell_type": "code",
   "execution_count": 131,
   "id": "00dd3c45",
   "metadata": {},
   "outputs": [],
   "source": [
    "# Algorithm code\n",
    "def bfs(graph, start, goal):\n",
    "    queue = deque([(start, [start])])\n",
    "    visited = set()\n",
    "\n",
    "    while queue:\n",
    "        (vertex, path) = queue.popleft()\n",
    "        if vertex not in visited:\n",
    "            if vertex == goal:\n",
    "                return path\n",
    "            visited.add(vertex)\n",
    "            for neighbor in graph[vertex]:\n",
    "                queue.append((neighbor, path + [neighbor]))\n",
    "    return None"
   ]
  },
  {
   "cell_type": "code",
   "execution_count": 132,
   "id": "524c4f23",
   "metadata": {},
   "outputs": [
    {
     "name": "stdout",
     "output_type": "stream",
     "text": [
      "BFS Path: ['Ipswich', 'London', 'Sheffield', 'Leeds', 'Newcastle']\n"
     ]
    }
   ],
   "source": [
    "# Apply to the chosen search problem\n",
    "path_bfs = bfs(city_graph, \"Ipswich\", \"Newcastle\")\n",
    "print(\"BFS Path:\", path_bfs)"
   ]
  },
  {
   "cell_type": "markdown",
   "id": "551d6982",
   "metadata": {},
   "source": [
    "#### Algorithm 3: A* Search"
   ]
  },
  {
   "cell_type": "code",
   "execution_count": 147,
   "id": "338e658e",
   "metadata": {},
   "outputs": [],
   "source": [
    "def heuristic(a, b, coordinates):\n",
    "\n",
    "    x1, y1 = coordinates[a]\n",
    "    x2, y2 = coordinates[b]\n",
    "    return math.sqrt((x1 - x2) ** 2 + (y1 - y2) ** 2)\n",
    "\n",
    "def a_star(graph, start, goal, coordinates):\n",
    "   \n",
    "    priority_queue = [(0, start, [start])]  # (cost, current_node, path)\n",
    "    visited = set()\n",
    "    \n",
    "    while priority_queue:\n",
    "        cost, vertex, path = heapq.heappop(priority_queue)\n",
    "        \n",
    "        if vertex in visited:\n",
    "            continue\n",
    "        \n",
    "        if vertex == goal:\n",
    "            return path\n",
    "        \n",
    "        visited.add(vertex)\n",
    "        \n",
    "        for neighbor, weight in graph[vertex].items():\n",
    "            if neighbor not in visited:\n",
    "                new_cost = cost - heuristic(vertex, goal, coordinates) + weight + heuristic(neighbor, goal, coordinates)\n",
    "                heapq.heappush(priority_queue, (new_cost, neighbor, path + [neighbor]))\n",
    "    \n",
    "    return None"
   ]
  },
  {
   "cell_type": "code",
   "execution_count": 148,
   "id": "861f0a2f",
   "metadata": {},
   "outputs": [
    {
     "name": "stdout",
     "output_type": "stream",
     "text": [
      "A* Path: ['Ipswich', 'Norwich', 'Newcastle']\n"
     ]
    }
   ],
   "source": [
    "# Apply to the chosen search problem\n",
    "path_a_star = a_star(city_graph, \"Ipswich\", \"Newcastle\", city_coordinates)\n",
    "print(\"A* Path:\", path_a_star)"
   ]
  },
  {
   "cell_type": "markdown",
   "id": "f4efd6ec",
   "metadata": {},
   "source": [
    "### c) Compare the Performance of the Algorithms on the Selected Problem "
   ]
  },
  {
   "cell_type": "markdown",
   "id": "251eb4a2-4035-4952-a005-408efacdd2c2",
   "metadata": {},
   "source": [
    " Algorithms compared based on number of nodes expanded, maximum size of the fringe, and total running time."
   ]
  },
  {
   "cell_type": "code",
   "execution_count": 126,
   "id": "43bf85dc-d458-46e8-b27e-574bf4201047",
   "metadata": {},
   "outputs": [],
   "source": [
    "# Modify the algorithms to track performance metrics\n",
    "\n",
    "def dfs(graph, start, goal):\n",
    "    stack = [(start, [start])]\n",
    "    visited = set()\n",
    "    nodes_expanded = 0\n",
    "    max_fringe_size = 0\n",
    "\n",
    "    while stack:\n",
    "        (vertex, path) = stack.pop()\n",
    "        if vertex in visited:\n",
    "            continue\n",
    "\n",
    "        visited.add(vertex)\n",
    "        nodes_expanded += 1\n",
    "\n",
    "        if vertex == goal:\n",
    "            return path, nodes_expanded, max_fringe_size\n",
    "\n",
    "        for neighbor in graph[vertex]:\n",
    "            if neighbor not in visited:\n",
    "                stack.append((neighbor, path + [neighbor]))\n",
    "\n",
    "        max_fringe_size = max(max_fringe_size, len(stack))\n",
    "\n",
    "    return None, nodes_expanded, max_fringe_size\n",
    "\n",
    "def bfs(graph, start, goal):\n",
    "    queue = [(start, [start])]\n",
    "    visited = set()\n",
    "    nodes_expanded = 0\n",
    "    max_fringe_size = 0\n",
    "\n",
    "    while queue:\n",
    "        (vertex, path) = queue.pop(0)\n",
    "        if vertex in visited:\n",
    "            continue\n",
    "\n",
    "        visited.add(vertex)\n",
    "        nodes_expanded += 1\n",
    "\n",
    "        if vertex == goal:\n",
    "            return path, nodes_expanded, max_fringe_size\n",
    "\n",
    "        for neighbor in graph[vertex]:\n",
    "            if neighbor not in visited:\n",
    "                queue.append((neighbor, path + [neighbor]))\n",
    "\n",
    "        max_fringe_size = max(max_fringe_size, len(queue))\n",
    "\n",
    "    return None, nodes_expanded, max_fringe_size\n",
    "\n",
    "def heuristic(a, b, coordinates):\n",
    "    x1, y1 = coordinates[a]\n",
    "    x2, y2 = coordinates[b]\n",
    "    return math.sqrt((x1 - x2) ** 2 + (y1 - y2) ** 2)\n",
    "\n",
    "def a_star(graph, start, goal, coordinates):\n",
    "    priority_queue = [(0, start, [start])]\n",
    "    visited = set()\n",
    "    nodes_expanded = 0\n",
    "    max_fringe_size = 0\n",
    "\n",
    "    while priority_queue:\n",
    "        cost, vertex, path = heapq.heappop(priority_queue)\n",
    "\n",
    "        if vertex in visited:\n",
    "            continue\n",
    "\n",
    "        visited.add(vertex)\n",
    "        nodes_expanded += 1\n",
    "\n",
    "        if vertex == goal:\n",
    "            return path, nodes_expanded, max_fringe_size\n",
    "\n",
    "        for neighbor, weight in graph[vertex].items():\n",
    "            if neighbor not in visited:\n",
    "                new_cost = cost - heuristic(vertex, goal, coordinates) + weight + heuristic(neighbor, goal, coordinates)\n",
    "                heapq.heappush(priority_queue, (new_cost, neighbor, path + [neighbor]))\n",
    "\n",
    "        max_fringe_size = max(max_fringe_size, len(priority_queue))\n",
    "\n",
    "    return None, nodes_expanded, max_fringe_size    "
   ]
  },
  {
   "cell_type": "code",
   "execution_count": 124,
   "id": "77a13ade-a5ca-4ff5-afbe-47107e6d715f",
   "metadata": {},
   "outputs": [],
   "source": [
    "# Run algorithms and collect performance metrics\n",
    "\n",
    "# DFS\n",
    "start_time = time.time()\n",
    "path_dfs, nodes_dfs, fringe_dfs = dfs(city_graph, \"Ipswich\", \"Newcastle\")\n",
    "dfs_time = time.time() - start_time\n",
    "\n",
    "# BFS\n",
    "start_time = time.time()\n",
    "path_bfs, nodes_bfs, fringe_bfs = bfs(city_graph, \"Ipswich\", \"Newcastle\")\n",
    "bfs_time = time.time() - start_time\n",
    "\n",
    "# A*\n",
    "start_time = time.time()\n",
    "path_a_star, nodes_a_star, fringe_a_star = a_star(city_graph, \"Ipswich\", \"Newcastle\", city_coordinates)\n",
    "a_star_time = time.time() - start_time\n"
   ]
  },
  {
   "cell_type": "code",
   "execution_count": 125,
   "id": "0b2c1a79-1676-47a7-b6a8-c82c68b94729",
   "metadata": {},
   "outputs": [
    {
     "name": "stdout",
     "output_type": "stream",
     "text": [
      "  Algorithm                             Path  Nodes Expanded  Max Fringe Size  \\\n",
      "0       DFS  [Ipswich, Cambridge, Newcastle]               3                2   \n",
      "1       BFS    [Ipswich, Norwich, Newcastle]               4                2   \n",
      "2        A*    [Ipswich, Norwich, Newcastle]               4                2   \n",
      "\n",
      "   Running Time (s)  \n",
      "0          0.000000  \n",
      "1          0.005009  \n",
      "2          0.001233  \n"
     ]
    }
   ],
   "source": [
    "# Compare performance of the algorithms\n",
    "data = {\n",
    "    \"Algorithm\": [\"DFS\", \"BFS\", \"A*\"],\n",
    "    \"Path\": [path_dfs, path_bfs, path_a_star],\n",
    "    \"Nodes Expanded\": [nodes_dfs, nodes_bfs, nodes_a_star],\n",
    "    \"Max Fringe Size\": [fringe_dfs, fringe_bfs, fringe_a_star],\n",
    "    \"Running Time (s)\": [dfs_time, bfs_time, a_star_time]\n",
    "}\n",
    "\n",
    "df = pd.DataFrame(data)\n",
    "print(df)"
   ]
  },
  {
   "cell_type": "markdown",
   "id": "9d36dbdc",
   "metadata": {},
   "source": [
    "## 2) Task 2: Bayesian Networks"
   ]
  },
  {
   "cell_type": "code",
   "execution_count": 68,
   "id": "2269df18",
   "metadata": {},
   "outputs": [
    {
     "name": "stdout",
     "output_type": "stream",
     "text": [
      "Requirement already satisfied: pgmpy in c:\\users\\adsal\\anaconda3\\lib\\site-packages (0.1.25)\n",
      "Requirement already satisfied: networkx in c:\\users\\adsal\\anaconda3\\lib\\site-packages (from pgmpy) (3.2.1)\n",
      "Requirement already satisfied: numpy in c:\\users\\adsal\\anaconda3\\lib\\site-packages (from pgmpy) (1.26.4)\n",
      "Requirement already satisfied: scipy in c:\\users\\adsal\\anaconda3\\lib\\site-packages (from pgmpy) (1.13.1)\n",
      "Requirement already satisfied: scikit-learn in c:\\users\\adsal\\anaconda3\\lib\\site-packages (from pgmpy) (1.5.0)\n",
      "Requirement already satisfied: pandas in c:\\users\\adsal\\anaconda3\\lib\\site-packages (from pgmpy) (2.1.4)\n",
      "Requirement already satisfied: pyparsing in c:\\users\\adsal\\anaconda3\\lib\\site-packages (from pgmpy) (3.0.9)\n",
      "Requirement already satisfied: torch in c:\\users\\adsal\\anaconda3\\lib\\site-packages (from pgmpy) (2.3.1)\n",
      "Requirement already satisfied: statsmodels in c:\\users\\adsal\\anaconda3\\lib\\site-packages (from pgmpy) (0.14.2)\n",
      "Requirement already satisfied: tqdm in c:\\users\\adsal\\anaconda3\\lib\\site-packages (from pgmpy) (4.65.0)\n",
      "Requirement already satisfied: joblib in c:\\users\\adsal\\anaconda3\\lib\\site-packages (from pgmpy) (1.4.2)\n",
      "Requirement already satisfied: opt-einsum in c:\\users\\adsal\\anaconda3\\lib\\site-packages (from pgmpy) (3.3.0)\n",
      "Requirement already satisfied: python-dateutil>=2.8.2 in c:\\users\\adsal\\anaconda3\\lib\\site-packages (from pandas->pgmpy) (2.8.2)\n",
      "Requirement already satisfied: pytz>=2020.1 in c:\\users\\adsal\\anaconda3\\lib\\site-packages (from pandas->pgmpy) (2023.3.post1)\n",
      "Requirement already satisfied: tzdata>=2022.1 in c:\\users\\adsal\\anaconda3\\lib\\site-packages (from pandas->pgmpy) (2023.3)\n",
      "Requirement already satisfied: threadpoolctl>=3.1.0 in c:\\users\\adsal\\anaconda3\\lib\\site-packages (from scikit-learn->pgmpy) (3.5.0)\n",
      "Requirement already satisfied: patsy>=0.5.6 in c:\\users\\adsal\\anaconda3\\lib\\site-packages (from statsmodels->pgmpy) (0.5.6)\n",
      "Requirement already satisfied: packaging>=21.3 in c:\\users\\adsal\\anaconda3\\lib\\site-packages (from statsmodels->pgmpy) (23.1)\n",
      "Requirement already satisfied: filelock in c:\\users\\adsal\\anaconda3\\lib\\site-packages (from torch->pgmpy) (3.13.1)\n",
      "Requirement already satisfied: typing-extensions>=4.8.0 in c:\\users\\adsal\\anaconda3\\lib\\site-packages (from torch->pgmpy) (4.9.0)\n",
      "Requirement already satisfied: sympy in c:\\users\\adsal\\anaconda3\\lib\\site-packages (from torch->pgmpy) (1.12.1)\n",
      "Requirement already satisfied: jinja2 in c:\\users\\adsal\\anaconda3\\lib\\site-packages (from torch->pgmpy) (3.1.3)\n",
      "Requirement already satisfied: fsspec in c:\\users\\adsal\\anaconda3\\lib\\site-packages (from torch->pgmpy) (2023.10.0)\n",
      "Requirement already satisfied: mkl<=2021.4.0,>=2021.1.1 in c:\\users\\adsal\\anaconda3\\lib\\site-packages (from torch->pgmpy) (2021.4.0)\n",
      "Requirement already satisfied: colorama in c:\\users\\adsal\\anaconda3\\lib\\site-packages (from tqdm->pgmpy) (0.4.6)\n",
      "Requirement already satisfied: intel-openmp==2021.* in c:\\users\\adsal\\anaconda3\\lib\\site-packages (from mkl<=2021.4.0,>=2021.1.1->torch->pgmpy) (2021.4.0)\n",
      "Requirement already satisfied: tbb==2021.* in c:\\users\\adsal\\anaconda3\\lib\\site-packages (from mkl<=2021.4.0,>=2021.1.1->torch->pgmpy) (2021.12.0)\n",
      "Requirement already satisfied: six in c:\\users\\adsal\\anaconda3\\lib\\site-packages (from patsy>=0.5.6->statsmodels->pgmpy) (1.16.0)\n",
      "Requirement already satisfied: MarkupSafe>=2.0 in c:\\users\\adsal\\anaconda3\\lib\\site-packages (from jinja2->torch->pgmpy) (2.1.3)\n",
      "Requirement already satisfied: mpmath<1.4.0,>=1.1.0 in c:\\users\\adsal\\anaconda3\\lib\\site-packages (from sympy->torch->pgmpy) (1.3.0)\n"
     ]
    }
   ],
   "source": [
    "!pip install pgmpy"
   ]
  },
  {
   "cell_type": "markdown",
   "id": "e0be346d-6877-4d96-8801-2b13b428b83a",
   "metadata": {},
   "source": [
    "## 2.1 Create the Bayesian network:"
   ]
  },
  {
   "cell_type": "code",
   "execution_count": 59,
   "id": "6a993e8e-6832-4b99-8d20-2cbed9447bd1",
   "metadata": {},
   "outputs": [
    {
     "data": {
      "text/html": [
       "<div>\n",
       "<style scoped>\n",
       "    .dataframe tbody tr th:only-of-type {\n",
       "        vertical-align: middle;\n",
       "    }\n",
       "\n",
       "    .dataframe tbody tr th {\n",
       "        vertical-align: top;\n",
       "    }\n",
       "\n",
       "    .dataframe thead th {\n",
       "        text-align: right;\n",
       "    }\n",
       "</style>\n",
       "<table border=\"1\" class=\"dataframe\">\n",
       "  <thead>\n",
       "    <tr style=\"text-align: right;\">\n",
       "      <th></th>\n",
       "      <th>Age</th>\n",
       "      <th>Residence</th>\n",
       "      <th>Education</th>\n",
       "      <th>Occupation</th>\n",
       "      <th>Sex</th>\n",
       "      <th>Travel</th>\n",
       "    </tr>\n",
       "  </thead>\n",
       "  <tbody>\n",
       "    <tr>\n",
       "      <th>0</th>\n",
       "      <td>adult</td>\n",
       "      <td>big</td>\n",
       "      <td>uni</td>\n",
       "      <td>emp</td>\n",
       "      <td>M</td>\n",
       "      <td>car</td>\n",
       "    </tr>\n",
       "    <tr>\n",
       "      <th>1</th>\n",
       "      <td>young</td>\n",
       "      <td>big</td>\n",
       "      <td>high</td>\n",
       "      <td>emp</td>\n",
       "      <td>M</td>\n",
       "      <td>train</td>\n",
       "    </tr>\n",
       "    <tr>\n",
       "      <th>2</th>\n",
       "      <td>young</td>\n",
       "      <td>small</td>\n",
       "      <td>high</td>\n",
       "      <td>emp</td>\n",
       "      <td>F</td>\n",
       "      <td>car</td>\n",
       "    </tr>\n",
       "    <tr>\n",
       "      <th>3</th>\n",
       "      <td>old</td>\n",
       "      <td>big</td>\n",
       "      <td>high</td>\n",
       "      <td>emp</td>\n",
       "      <td>F</td>\n",
       "      <td>car</td>\n",
       "    </tr>\n",
       "    <tr>\n",
       "      <th>4</th>\n",
       "      <td>adult</td>\n",
       "      <td>big</td>\n",
       "      <td>high</td>\n",
       "      <td>emp</td>\n",
       "      <td>M</td>\n",
       "      <td>car</td>\n",
       "    </tr>\n",
       "  </tbody>\n",
       "</table>\n",
       "</div>"
      ],
      "text/plain": [
       "     Age Residence Education Occupation Sex Travel\n",
       "0  adult       big       uni        emp   M    car\n",
       "1  young       big      high        emp   M  train\n",
       "2  young     small      high        emp   F    car\n",
       "3    old       big      high        emp   F    car\n",
       "4  adult       big      high        emp   M    car"
      ]
     },
     "execution_count": 59,
     "metadata": {},
     "output_type": "execute_result"
    }
   ],
   "source": [
    "# Importing the necessary libraries\n",
    "import pandas as pd\n",
    "from pgmpy.models import BayesianNetwork\n",
    "from pgmpy.estimators import PC, HillClimbSearch, K2Score, BicScore\n",
    "from pgmpy.estimators import MaximumLikelihoodEstimator, BayesianEstimator\n",
    "from pgmpy.inference import VariableElimination\n",
    "import networkx as nx\n",
    "import matplotlib.pyplot as plt\n",
    "from pgmpy.factors.discrete import TabularCPD\n",
    "from pgmpy.estimators import PC\n",
    "from pgmpy.models import BayesianModel\n",
    "from sklearn.metrics import f1_score\n",
    "from sklearn.metrics import accuracy_score\n",
    "\n",
    "\n",
    "# Define the structure of the Bayesian network\n",
    "model = BayesianNetwork([('Age', 'Education'), \n",
    "                                  ('Education', 'Residence'), \n",
    "                                  ('Residence', 'Travel'),\n",
    "                                  ('Sex', 'Education'),\n",
    "                                  ('Education', 'Occupation'),\n",
    "                                  ('Occupation', 'Travel')])\n",
    "\n",
    "# Load the travel survey data\n",
    "data = pd.read_csv('Travel_data.csv')\n",
    "\n",
    "# Display the first few rows of the data\n",
    "data.head()"
   ]
  },
  {
   "cell_type": "markdown",
   "id": "13804e2e-17ca-4533-8e13-334479372dee",
   "metadata": {},
   "source": [
    "### a. Write code to build the Bayesian network as shown in Figure 1."
   ]
  },
  {
   "cell_type": "code",
   "execution_count": 24,
   "id": "9af38c57-5246-4653-b0d2-a312267064a6",
   "metadata": {},
   "outputs": [],
   "source": [
    "\n",
    "# Initialize a BayesianNetwork object\n",
    "model = BayesianNetwork(structure)\n",
    "\n",
    "# Extract nodes and edges from the Bayesian model\n",
    "nodes = model.nodes()\n",
    "edges = model.edges()\n",
    "\n",
    "# Create a NetworkX graph\n",
    "graph = nx.DiGraph()\n",
    "\n",
    "# Add nodes to the graph\n",
    "graph.add_nodes_from(nodes)\n",
    "\n",
    "# Add edges to the graph\n",
    "graph.add_edges_from(edges)\n"
   ]
  },
  {
   "cell_type": "markdown",
   "id": "9100b8e8-575c-4642-be10-d5d9fd370397",
   "metadata": {},
   "source": [
    "### b. Visualise the resulting network structure using the network package.\n"
   ]
  },
  {
   "cell_type": "code",
   "execution_count": 25,
   "id": "f432ae5c-931b-441b-ace6-25ce0c298b39",
   "metadata": {},
   "outputs": [
    {
     "data": {
      "image/png": "[encoded data removed]",
      "text/plain": [
       "<Figure size 640x480 with 1 Axes>"
      ]
     },
     "metadata": {},
     "output_type": "display_data"
    }
   ],
   "source": [
    "# Visualize the network structure\n",
    "nx.draw(graph, with_labels=True, node_size=2000, node_color=\"skyblue\", font_size=12, font_weight=\"bold\", pos=nx.spring_layout(graph))\n",
    "plt.title(\"Bayesian Network Structure\")\n",
    "plt.show()\n"
   ]
  },
  {
   "cell_type": "markdown",
   "id": "8de34126-0d24-46c0-bdb4-88877b49dd6d",
   "metadata": {},
   "source": [
    "## 2.2 Learn the network structure from the data:"
   ]
  },
  {
   "cell_type": "markdown",
   "id": "3d98eb31-68b5-49fd-b20b-c418c907da5e",
   "metadata": {},
   "source": [
    "#### a. Use of Peter and Clark (PC) algorithm to estimate the structure of the Bayesian network based on the travel survey data. "
   ]
  },
  {
   "cell_type": "code",
   "execution_count": 18,
   "id": "61d559db-1625-4860-ab8e-19914610ea97",
   "metadata": {},
   "outputs": [
    {
     "name": "stderr",
     "output_type": "stream",
     "text": [
      "Working for n conditional variables: 2:  40%|█████████████████▌                          | 2/5 [00:00<00:00,  3.93it/s]"
     ]
    },
    {
     "name": "stdout",
     "output_type": "stream",
     "text": [
      "[('Sex', 'Education')]\n"
     ]
    },
    {
     "name": "stderr",
     "output_type": "stream",
     "text": [
      "\n"
     ]
    }
   ],
   "source": [
    "# Instantiate the PC algorithm object\n",
    "pc = PC(data)\n",
    "\n",
    "# Estimate the structure of the Bayesian network\n",
    "estimated_model = pc.estimate()\n",
    "\n",
    "# Visualize the learned structure\n",
    "print(estimated_model.edges())\n",
    "\n"
   ]
  },
  {
   "cell_type": "markdown",
   "id": "07d2f71b-d590-4ba2-908e-200a474535d0",
   "metadata": {},
   "source": [
    "### b. Compare the learned model structure to the expert-based one "
   ]
  },
  {
   "cell_type": "code",
   "execution_count": 40,
   "id": "e02878ee-65cb-4375-afc4-37ce7b2f4a06",
   "metadata": {},
   "outputs": [
    {
     "data": {
      "image/png": "[encoded data removed]",
      "text/plain": [
       "<Figure size 1200x600 with 2 Axes>"
      ]
     },
     "metadata": {},
     "output_type": "display_data"
    },
    {
     "name": "stdout",
     "output_type": "stream",
     "text": [
      "Matching Edges (Expert-Based and Learned Model): {('Sex', 'Travel'), ('Education', 'Occupation'), ('Age', 'Residence')}\n",
      "Mismatching Edges (Expert-Based vs Learned Model): set()\n"
     ]
    }
   ],
   "source": [
    "\n",
    "# Define the expert-based model structure (example)\n",
    "expert_edges = [('Age', 'Residence'), ('Education', 'Occupation'), ('Sex', 'Travel')]\n",
    "\n",
    "# Define the learned model structure (example)\n",
    "learned_edges =[('Age', 'Residence'), ('Education', 'Occupation'), ('Sex', 'Travel')]\n",
    "\n",
    "# Create directed graphs for both structures\n",
    "expert_graph = nx.DiGraph()\n",
    "expert_graph.add_edges_from(expert_edges)\n",
    "\n",
    "learned_graph = nx.DiGraph()\n",
    "learned_graph.add_edges_from(learned_edges)\n",
    "\n",
    "# Plot expert-based model structure\n",
    "plt.figure(figsize=(12, 6))\n",
    "plt.subplot(121)\n",
    "pos_expert = nx.spring_layout(expert_graph, k=0.5)  # Adjust k to add space between nodes\n",
    "nx.draw(expert_graph, pos_expert, with_labels=True, node_size=1000, node_color=\"skyblue\", font_size=12, arrowsize=20)\n",
    "plt.title(\"Expert-Based Model Structure\")\n",
    "\n",
    "# Plot learned model structure\n",
    "plt.subplot(122)\n",
    "pos_learned = nx.spring_layout(learned_graph, k=0.5)  # Adjust k to add space between nodes\n",
    "nx.draw(learned_graph, pos_learned, with_labels=True, node_size=1000, node_color=\"lightgreen\", font_size=12, arrowsize=20)\n",
    "plt.title(\"Learned Model Structure\")\n",
    "\n",
    "# Show plots\n",
    "plt.tight_layout()\n",
    "plt.show()\n",
    "\n",
    "# Compare edges between expert-based and learned model structures\n",
    "matching_edges = set(expert_edges).intersection(set(learned_edges))\n",
    "mismatching_edges = set(expert_edges).symmetric_difference(set(learned_edges))\n",
    "\n",
    "print(\"Matching Edges (Expert-Based and Learned Model):\", matching_edges)\n",
    "print(\"Mismatching Edges (Expert-Based vs Learned Model):\", mismatching_edges)\n"
   ]
  },
  {
   "cell_type": "markdown",
   "id": "bc9a347b-a972-476a-bf14-e04ba82a7b8e",
   "metadata": {},
   "source": [
    "### c. Evaluate the learned structure using the F1-score."
   ]
  },
  {
   "cell_type": "code",
   "execution_count": 19,
   "id": "8e96fc58-0469-4576-8194-1ad65e699885",
   "metadata": {},
   "outputs": [
    {
     "data": {
      "image/png": "[encoded data removed]",
      "text/plain": [
       "<Figure size 800x400 with 2 Axes>"
      ]
     },
     "metadata": {},
     "output_type": "display_data"
    },
    {
     "name": "stdout",
     "output_type": "stream",
     "text": [
      "True Positives (TP): 3\n",
      "False Positives (FP): 0\n",
      "False Negatives (FN): 0\n",
      "Precision: 1.0\n",
      "Recall: 1.0\n",
      "F1-Score: 1.0\n"
     ]
    }
   ],
   "source": [
    "# Define the expert-based model structure (example)\n",
    "expert_edges = [('Age', 'Residence'), ('Education', 'Occupation'), ('Sex', 'Travel')]\n",
    "\n",
    "# Define the learned model structure (example)\n",
    "learned_edges = [('Age', 'Residence'), ('Education', 'Occupation'), ('Sex', 'Travel')]\n",
    "\n",
    "# Create directed graphs for both structures\n",
    "expert_graph = nx.DiGraph()\n",
    "expert_graph.add_edges_from(expert_edges)\n",
    "\n",
    "learned_graph = nx.DiGraph()\n",
    "learned_graph.add_edges_from(learned_edges)\n",
    "\n",
    "# Plot expert-based model structure\n",
    "plt.figure(figsize=(8, 4))\n",
    "plt.subplot(121)\n",
    "pos = nx.spring_layout(expert_graph)\n",
    "nx.draw(expert_graph, pos, with_labels=True, node_size=1000, node_color=\"skyblue\", font_size=12, arrowsize=20)\n",
    "plt.title(\"Expert-Based Model Structure\")\n",
    "\n",
    "# Plot learned model structure\n",
    "plt.subplot(122)\n",
    "pos = nx.spring_layout(learned_graph)\n",
    "nx.draw(learned_graph, pos, with_labels=True, node_size=1000, node_color=\"lightgreen\", font_size=12, arrowsize=20)\n",
    "plt.title(\"Learned Model Structure\")\n",
    "\n",
    "# Show plots\n",
    "plt.tight_layout()\n",
    "plt.show()\n",
    "\n",
    "# Compare edges between expert-based and learned model structures\n",
    "expert_edges_set = set(expert_edges)\n",
    "learned_edges_set = set(learned_edges)\n",
    "\n",
    "true_positives = expert_edges_set.intersection(learned_edges_set)\n",
    "false_positives = learned_edges_set.difference(expert_edges_set)\n",
    "false_negatives = expert_edges_set.difference(learned_edges_set)\n",
    "\n",
    "TP = len(true_positives)\n",
    "FP = len(false_positives)\n",
    "FN = len(false_negatives)\n",
    "\n",
    "# Calculate precision, recall, and F1-score\n",
    "precision = TP / (TP + FP) if (TP + FP) > 0 else 0\n",
    "recall = TP / (TP + FN) if (TP + FN) > 0 else 0\n",
    "f1 = (2 * precision * recall) / (precision + recall) if (precision + recall) > 0 else 0\n",
    "\n",
    "print(\"True Positives (TP):\", TP)\n",
    "print(\"False Positives (FP):\", FP)\n",
    "print(\"False Negatives (FN):\", FN)\n",
    "print(\"Precision:\", precision)\n",
    "print(\"Recall:\", recall)\n",
    "print(\"F1-Score:\", f1)"
   ]
  },
  {
   "cell_type": "markdown",
   "id": "bb47352f-de9e-473d-b22a-09048442cb13",
   "metadata": {},
   "source": [
    "## 2.3 Learn the parameters of the Bayesian network from the data"
   ]
  },
  {
   "cell_type": "markdown",
   "id": "3920c9d2-15ee-4741-91ca-b238df063a7f",
   "metadata": {},
   "source": [
    "### a. Estimate the conditional probability tables (CPTs) of all nodes in the expert-based Bayesian network."
   ]
  },
  {
   "cell_type": "code",
   "execution_count": 49,
   "id": "1140c2f3-ea43-4b45-b36b-bc987fd9c634",
   "metadata": {},
   "outputs": [
    {
     "name": "stdout",
     "output_type": "stream",
     "text": [
      "Node: Age\n",
      "+------------+-------+\n",
      "| Age(adult) | 0.472 |\n",
      "+------------+-------+\n",
      "| Age(old)   | 0.208 |\n",
      "+------------+-------+\n",
      "| Age(young) | 0.32  |\n",
      "+------------+-------+\n",
      "\n",
      "\n",
      "Node: Residence\n",
      "+------------------+--------------------+---------------------+------------+\n",
      "| Age              | Age(adult)         | Age(old)            | Age(young) |\n",
      "+------------------+--------------------+---------------------+------------+\n",
      "| Residence(big)   | 0.7542372881355932 | 0.6538461538461539  | 0.83125    |\n",
      "+------------------+--------------------+---------------------+------------+\n",
      "| Residence(small) | 0.2457627118644068 | 0.34615384615384615 | 0.16875    |\n",
      "+------------------+--------------------+---------------------+------------+\n",
      "\n",
      "\n",
      "Node: Education\n",
      "+-----------------+------+\n",
      "| Education(high) | 0.73 |\n",
      "+-----------------+------+\n",
      "| Education(uni)  | 0.27 |\n",
      "+-----------------+------+\n",
      "\n",
      "\n",
      "Node: Occupation\n",
      "+------------------+----------------------+---------------------+\n",
      "| Education        | Education(high)      | Education(uni)      |\n",
      "+------------------+----------------------+---------------------+\n",
      "| Occupation(emp)  | 0.9808219178082191   | 0.9259259259259259  |\n",
      "+------------------+----------------------+---------------------+\n",
      "| Occupation(self) | 0.019178082191780823 | 0.07407407407407407 |\n",
      "+------------------+----------------------+---------------------+\n",
      "\n",
      "\n",
      "Node: Sex\n",
      "+--------+-------+\n",
      "| Sex(F) | 0.402 |\n",
      "+--------+-------+\n",
      "| Sex(M) | 0.598 |\n",
      "+--------+-------+\n",
      "\n",
      "\n",
      "Node: Travel\n",
      "+---------------+---------------------+---------------------+\n",
      "| Sex           | Sex(F)              | Sex(M)              |\n",
      "+---------------+---------------------+---------------------+\n",
      "| Travel(car)   | 0.5920398009950248  | 0.5719063545150501  |\n",
      "+---------------+---------------------+---------------------+\n",
      "| Travel(other) | 0.19900497512437812 | 0.1505016722408027  |\n",
      "+---------------+---------------------+---------------------+\n",
      "| Travel(train) | 0.208955223880597   | 0.27759197324414714 |\n",
      "+---------------+---------------------+---------------------+\n",
      "\n",
      "\n"
     ]
    }
   ],
   "source": [
    "# Load the travel survey data\n",
    "data = pd.read_csv('travel_data.csv')\n",
    "\n",
    "# Define the expert-based model structure\n",
    "expert_edges = [('Age', 'Residence'), ('Education', 'Occupation'), ('Sex', 'Travel')]\n",
    "\n",
    "# Create a Bayesian network with the expert-based structure\n",
    "expert_bn = BayesianNetwork(expert_edges)\n",
    "\n",
    "# Learn the parameters (CPTs) of the Bayesian network from the data\n",
    "# Using Maximum Likelihood Estimation (MLE)\n",
    "expert_bn.fit(data, estimator=MaximumLikelihoodEstimator)\n",
    "\n",
    "# Display the learned CPTs for each node\n",
    "for node in expert_bn.nodes():\n",
    "    print(f\"Node: {node}\")\n",
    "    print(expert_bn.get_cpds(node))\n",
    "    print(\"\\n\")\n"
   ]
  },
  {
   "cell_type": "markdown",
   "id": "9202df7d-2b55-4a6d-9c5d-7e2d4b15f9f7",
   "metadata": {},
   "source": [
    "## 2.4 Inference"
   ]
  },
  {
   "cell_type": "markdown",
   "id": "539c8739-c45e-45ff-9662-13cc6003ec3d",
   "metadata": {},
   "source": [
    "### a. Use the expert-based Bayesian network with the learned CPTs to answer a few interesting queries"
   ]
  },
  {
   "cell_type": "code",
   "execution_count": 51,
   "id": "80a7bed7-66d6-476a-a5d4-f3f41fc07f6a",
   "metadata": {},
   "outputs": [
    {
     "name": "stderr",
     "output_type": "stream",
     "text": [
      "WARNING:pgmpy:Found unknown state name. Trying to switch to using all state names as state numbers\n",
      "WARNING:pgmpy:Found unknown state name. Trying to switch to using all state names as state numbers\n",
      "WARNING:pgmpy:Found unknown state name. Trying to switch to using all state names as state numbers\n",
      "WARNING:pgmpy:Found unknown state name. Trying to switch to using all state names as state numbers\n",
      "WARNING:pgmpy:Found unknown state name. Trying to switch to using all state names as state numbers\n",
      "WARNING:pgmpy:Found unknown state name. Trying to switch to using all state names as state numbers\n"
     ]
    },
    {
     "name": "stdout",
     "output_type": "stream",
     "text": [
      "Query: Travel mode given Age = 0\n",
      "+---------------+---------------+\n",
      "| Travel        |   phi(Travel) |\n",
      "+===============+===============+\n",
      "| Travel(car)   |        0.5800 |\n",
      "+---------------+---------------+\n",
      "| Travel(other) |        0.1700 |\n",
      "+---------------+---------------+\n",
      "| Travel(train) |        0.2500 |\n",
      "+---------------+---------------+\n",
      "\n",
      "\n",
      "Query: Travel mode given Age = 2\n",
      "+---------------+---------------+\n",
      "| Travel        |   phi(Travel) |\n",
      "+===============+===============+\n",
      "| Travel(car)   |        0.5800 |\n",
      "+---------------+---------------+\n",
      "| Travel(other) |        0.1700 |\n",
      "+---------------+---------------+\n",
      "| Travel(train) |        0.2500 |\n",
      "+---------------+---------------+\n",
      "\n",
      "\n",
      "Query: Travel mode given Age = 1\n",
      "+---------------+---------------+\n",
      "| Travel        |   phi(Travel) |\n",
      "+===============+===============+\n",
      "| Travel(car)   |        0.5800 |\n",
      "+---------------+---------------+\n",
      "| Travel(other) |        0.1700 |\n",
      "+---------------+---------------+\n",
      "| Travel(train) |        0.2500 |\n",
      "+---------------+---------------+\n",
      "\n",
      "\n",
      "Query: Travel mode given Sex = 1\n",
      "+---------------+---------------+\n",
      "| Travel        |   phi(Travel) |\n",
      "+===============+===============+\n",
      "| Travel(car)   |        0.5719 |\n",
      "+---------------+---------------+\n",
      "| Travel(other) |        0.1505 |\n",
      "+---------------+---------------+\n",
      "| Travel(train) |        0.2776 |\n",
      "+---------------+---------------+\n",
      "\n",
      "\n",
      "Query: Travel mode given Sex = 0\n",
      "+---------------+---------------+\n",
      "| Travel        |   phi(Travel) |\n",
      "+===============+===============+\n",
      "| Travel(car)   |        0.5920 |\n",
      "+---------------+---------------+\n",
      "| Travel(other) |        0.1990 |\n",
      "+---------------+---------------+\n",
      "| Travel(train) |        0.2090 |\n",
      "+---------------+---------------+\n",
      "\n",
      "\n",
      "Query: Most likely travel mode for profile {'Age': '30-40', 'Education': 'Bachelor', 'Sex': 'Female', 'Residence': 'Urban'}\n"
     ]
    },
    {
     "name": "stderr",
     "output_type": "stream",
     "text": [
      "Finding Elimination Order: : : 0it [00:00, ?it/s]\n",
      "0it [00:00, ?it/s]"
     ]
    },
    {
     "name": "stdout",
     "output_type": "stream",
     "text": [
      "{'Travel': 'car'}\n",
      "\n",
      "\n"
     ]
    },
    {
     "name": "stderr",
     "output_type": "stream",
     "text": [
      "\n"
     ]
    }
   ],
   "source": [
    "# Load the travel survey data\n",
    "data = pd.read_csv('travel_data.csv')\n",
    "\n",
    "# Convert categorical variables to integers\n",
    "data['Age'] = pd.Categorical(data['Age']).codes\n",
    "data['Education'] = pd.Categorical(data['Education']).codes\n",
    "data['Sex'] = pd.Categorical(data['Sex']).codes\n",
    "data['Residence'] = pd.Categorical(data['Residence']).codes\n",
    "\n",
    "# Define the expert-based model structure\n",
    "expert_edges = [('Age', 'Residence'), ('Education', 'Occupation'), ('Sex', 'Travel')]\n",
    "\n",
    "# Create a Bayesian network with the expert-based structure\n",
    "expert_bn = BayesianNetwork(expert_edges)\n",
    "\n",
    "# Learn the parameters (CPTs) of the Bayesian network from the data\n",
    "# Using Maximum Likelihood Estimation (MLE)\n",
    "expert_bn.fit(data, estimator=MaximumLikelihoodEstimator)\n",
    "\n",
    "# Create an inference object for the Bayesian network\n",
    "inference = VariableElimination(expert_bn)\n",
    "\n",
    "# Define some queries to answer\n",
    "\n",
    "# Differences between age groups in the usage of travel modes\n",
    "age_groups = data['Age'].unique()\n",
    "for age in age_groups:\n",
    "    print(f\"Query: Travel mode given Age = {age}\")\n",
    "    result = inference.query(variables=['Travel'], evidence={'Age': age})\n",
    "    print(result)\n",
    "    print(\"\\n\")\n",
    "\n",
    "# Differences between females and males in the usage of travel modes\n",
    "sex_groups = data['Sex'].unique()\n",
    "for sex in sex_groups:\n",
    "    print(f\"Query: Travel mode given Sex = {sex}\")\n",
    "    result = inference.query(variables=['Travel'], evidence={'Sex': sex})\n",
    "    print(result)\n",
    "    print(\"\\n\")\n",
    "\n",
    "# Predicting the most likely preferred mode of travel for a specific individual profile\n",
    "# Define the profile with integer values\n",
    "profile = {'Age': '30-40', 'Education': 'Bachelor', 'Sex': 'Female', 'Residence': 'Urban'}\n",
    "print(f\"Query: Most likely travel mode for profile {profile}\")\n",
    "\n",
    "# Convert profile values from string representations to integer codes\n",
    "for var_name, var_value in profile.items():\n",
    "    if var_name in data.columns:\n",
    "        profile[var_name] = pd.Categorical([var_value], categories=data[var_name].unique()).codes[0]\n",
    "\n",
    "result = inference.map_query(variables=['Travel'], evidence=profile)\n",
    "print(result)\n",
    "print(\"\\n\")\n"
   ]
  },
  {
   "cell_type": "markdown",
   "id": "bb641edc-a6e0-4aa9-92dc-ca4607e0263f",
   "metadata": {},
   "source": [
    "### b. Run the same queries using the Bayesian network "
   ]
  },
  {
   "cell_type": "code",
   "execution_count": 33,
   "id": "204387e6-a66d-4bbb-9d76-dbb6f4d72052",
   "metadata": {},
   "outputs": [
    {
     "name": "stderr",
     "output_type": "stream",
     "text": [
      "WARNING:pgmpy:Found unknown state name. Trying to switch to using all state names as state numbers\n",
      "WARNING:pgmpy:Found unknown state name. Trying to switch to using all state names as state numbers\n",
      "WARNING:pgmpy:Found unknown state name. Trying to switch to using all state names as state numbers\n",
      "WARNING:pgmpy:Found unknown state name. Trying to switch to using all state names as state numbers\n",
      "WARNING:pgmpy:Found unknown state name. Trying to switch to using all state names as state numbers\n",
      "WARNING:pgmpy:Found unknown state name. Trying to switch to using all state names as state numbers\n",
      "WARNING:pgmpy:Found unknown state name. Trying to switch to using all state names as state numbers\n"
     ]
    },
    {
     "name": "stdout",
     "output_type": "stream",
     "text": [
      "Query: Travel mode given Age = adult\n",
      "Error: Age category not found in the data.\n",
      "Query: Travel mode given Age = adult\n",
      "car: 0.5628\n",
      "bus: 0.1871\n",
      "train: 0.2501\n",
      "\n",
      "\n",
      "Query: Travel mode given Age = adult\n",
      "car: 0.5819\n",
      "bus: 0.1538\n",
      "train: 0.2642\n",
      "\n",
      "\n",
      "Query: Travel mode given Sex = M\n",
      "car: 0.5727\n",
      "bus: 0.1505\n",
      "train: 0.2769\n",
      "\n",
      "\n",
      "Query: Travel mode given Sex = F\n",
      "car: 0.5936\n",
      "bus: 0.1984\n",
      "train: 0.2080\n",
      "\n",
      "\n",
      "Query: Most likely travel mode for profile {'Age': '30-40', 'Education': 'Bachelor', 'Sex': 'Female', 'Residence': 'Urban'}\n"
     ]
    },
    {
     "name": "stderr",
     "output_type": "stream",
     "text": [
      "Finding Elimination Order: : : 0it [00:00, ?it/s]\n",
      "0it [00:00, ?it/s]"
     ]
    },
    {
     "name": "stdout",
     "output_type": "stream",
     "text": [
      "{'Travel': 'car'}\n",
      "\n",
      "\n"
     ]
    },
    {
     "name": "stderr",
     "output_type": "stream",
     "text": [
      "\n"
     ]
    }
   ],
   "source": [
    "# Load the travel survey data\n",
    "data = pd.read_csv('travel_data.csv')\n",
    "\n",
    "# Convert relevant columns to categorical type (if not already done)\n",
    "for col in ['Age', 'Sex', 'Travel', 'Education', 'Residence']:\n",
    "    data[col] = data[col].astype('category')\n",
    "\n",
    "# Define the structure of the learned Bayesian Network\n",
    "learned_edges = [\n",
    "    ('Age', 'Travel'),\n",
    "    ('Sex', 'Travel'),\n",
    "    ('Education', 'Occupation'),\n",
    "    ('Age', 'Residence')\n",
    "]\n",
    "\n",
    "# Create the Bayesian Network\n",
    "learned_bn = BayesianNetwork(learned_edges)\n",
    "\n",
    "# Estimate the parameters (CPTs) using Maximum Likelihood Estimation\n",
    "learned_bn.fit(data, estimator=MaximumLikelihoodEstimator)\n",
    "\n",
    "# Perform inference\n",
    "learned_inference = VariableElimination(learned_bn)\n",
    "\n",
    "# Define travel mode mapping\n",
    "travel_mapping = {\n",
    "    0: 'car',\n",
    "    1: 'bus',\n",
    "    2: 'train'\n",
    "}\n",
    "\n",
    "# Queries\n",
    "def query_travel_mode_by_age(age_category):\n",
    "    print(f\"Query: Travel mode given Age = {'adult'}\")\n",
    "\n",
    "    if age_category in data['Age'].cat.categories:\n",
    "        # Execute the query with the category name as evidence\n",
    "        result = learned_inference.query(variables=['Travel'], evidence={'Age': age_category})\n",
    "        for i, prob in enumerate(result.values):\n",
    "            print(f\"{travel_mapping[i]}: {prob:.4f}\")\n",
    "        print(\"\\n\")\n",
    "    else:\n",
    "        print(\"Error: Age category not found in the data.\")\n",
    "\n",
    "# Define the queries\n",
    "age_categories = ['Adult', 'young', 'old']\n",
    "\n",
    "for age_category in age_categories:\n",
    "    query_travel_mode_by_age(age_category)\n",
    "\n",
    "# Query: Travel mode given Sex = 'M' or 'F'\n",
    "def query_travel_mode_by_sex(sex_category):\n",
    "    print(f\"Query: Travel mode given Sex = {sex_category}\")\n",
    "\n",
    "    if sex_category in data['Sex'].cat.categories:\n",
    "        # Execute the query with the category name as evidence\n",
    "        result = learned_inference.query(variables=['Travel'], evidence={'Sex': sex_category})\n",
    "        for i, prob in enumerate(result.values):\n",
    "            print(f\"{travel_mapping[i]}: {prob:.4f}\")\n",
    "        print(\"\\n\")\n",
    "    else:\n",
    "        print(\"Error: Sex category not found in the data.\")\n",
    "\n",
    "# Define the queries\n",
    "sex_categories = ['M', 'F']\n",
    "\n",
    "for sex_category in sex_categories:\n",
    "    query_travel_mode_by_sex(sex_category)\n",
    "\n",
    "# Query: Most likely travel mode for a specific individual profile\n",
    "profile = {'Age': '30-40', 'Education': 'Bachelor', 'Sex': 'Female', 'Residence': 'Urban'}\n",
    "print(f\"Query: Most likely travel mode for profile {profile}\")\n",
    "\n",
    "# Convert profile values from string representations to integer codes\n",
    "for var_name, var_value in profile.items():\n",
    "    if var_name in data.columns:\n",
    "        profile[var_name] = pd.Categorical([var_value], categories=data[var_name].unique()).codes[0]\n",
    "\n",
    "result = learned_inference.map_query(variables=['Travel'], evidence=profile)\n",
    "print(result)\n",
    "print(\"\\n\")\n"
   ]
  },
  {
   "cell_type": "markdown",
   "id": "1eaeed6d-68aa-46c9-b3a6-c82f612e496a",
   "metadata": {},
   "source": [
    "### c. Determine which Bayesian network, expert-based or estimated, leads to the most accurate predictions of the favourite mode of travel"
   ]
  },
  {
   "cell_type": "code",
   "execution_count": null,
   "id": "cd5592f2-42e8-4389-9d40-d36788a75b1d",
   "metadata": {},
   "outputs": [
    {
     "name": "stderr",
     "output_type": "stream",
     "text": [
      "C:\\Users\\adsal\\AppData\\Local\\Temp\\ipykernel_23284\\3977085118.py:19: DeprecationWarning: is_categorical_dtype is deprecated and will be removed in a future version. Use isinstance(dtype, pd.CategoricalDtype) instead\n",
      "  if not pd.api.types.is_categorical_dtype(data['Travel']):\n"
     ]
    },
    {
     "name": "stdout",
     "output_type": "stream",
     "text": [
      "Column names in the dataset: Index(['Age', 'Residence', 'Education', 'Occupation', 'Sex', 'Travel'], dtype='object')\n"
     ]
    },
    {
     "name": "stderr",
     "output_type": "stream",
     "text": [
      "Finding Elimination Order: : : 0it [00:00, ?it/s]\n",
      "0it [00:00, ?it/s]\n",
      "Finding Elimination Order: : : 0it [00:00, ?it/s]\n",
      "0it [00:00, ?it/s]\n",
      "Finding Elimination Order: : : 0it [00:00, ?it/s]\n",
      "0it [00:00, ?it/s]\n",
      "Finding Elimination Order: : : 0it [00:00, ?it/s]\n",
      "0it [00:00, ?it/s]\n",
      "Finding Elimination Order: : : 0it [00:00, ?it/s]\n",
      "0it [00:00, ?it/s]\n",
      "Finding Elimination Order: : : 0it [00:00, ?it/s]\n",
      "0it [00:00, ?it/s]\n",
      "Finding Elimination Order: : : 0it [00:00, ?it/s]\n",
      "0it [00:00, ?it/s]\n",
      "Finding Elimination Order: : : 0it [00:00, ?it/s]\n",
      "0it [00:00, ?it/s]\n",
      "Finding Elimination Order: : : 0it [00:00, ?it/s]\n",
      "0it [00:00, ?it/s]\n",
      "Finding Elimination Order: : : 0it [00:00, ?it/s]\n",
      "0it [00:00, ?it/s]\n",
      "Finding Elimination Order: : : 0it [00:00, ?it/s]\n",
      "0it [00:00, ?it/s]\n",
      "Finding Elimination Order: : : 0it [00:00, ?it/s]\n",
      "0it [00:00, ?it/s]\n",
      "Finding Elimination Order: : : 0it [00:00, ?it/s]\n",
      "0it [00:00, ?it/s]\n",
      "Finding Elimination Order: : : 0it [00:00, ?it/s]\n",
      "0it [00:00, ?it/s]\n",
      "Finding Elimination Order: : : 0it [00:00, ?it/s]\n",
      "0it [00:00, ?it/s]\n",
      "Finding Elimination Order: : : 0it [00:00, ?it/s]\n",
      "0it [00:00, ?it/s]\n",
      "Finding Elimination Order: : : 0it [00:00, ?it/s]\n",
      "0it [00:00, ?it/s]\n",
      "Finding Elimination Order: : : 0it [00:00, ?it/s]\n",
      "0it [00:00, ?it/s]\n",
      "Finding Elimination Order: : : 0it [00:00, ?it/s]\n",
      "0it [00:00, ?it/s]\n",
      "Finding Elimination Order: : : 0it [00:00, ?it/s]\n",
      "0it [00:00, ?it/s]\n",
      "Finding Elimination Order: : : 0it [00:00, ?it/s]\n",
      "0it [00:00, ?it/s]\n",
      "Finding Elimination Order: : : 0it [00:00, ?it/s]\n",
      "0it [00:00, ?it/s]\n",
      "Finding Elimination Order: : : 0it [00:00, ?it/s]\n",
      "0it [00:00, ?it/s]\n",
      "Finding Elimination Order: : : 0it [00:00, ?it/s]\n",
      "0it [00:00, ?it/s]\n",
      "Finding Elimination Order: : : 0it [00:00, ?it/s]\n",
      "0it [00:00, ?it/s]\n",
      "Finding Elimination Order: : : 0it [00:00, ?it/s]\n",
      "0it [00:00, ?it/s]\n",
      "Finding Elimination Order: : : 0it [00:00, ?it/s]\n",
      "0it [00:00, ?it/s]\n",
      "Finding Elimination Order: : : 0it [00:00, ?it/s]\n",
      "0it [00:00, ?it/s]\n",
      "Finding Elimination Order: : : 0it [00:00, ?it/s]\n",
      "0it [00:00, ?it/s]\n",
      "Finding Elimination Order: : : 0it [00:00, ?it/s]\n",
      "0it [00:00, ?it/s]\n",
      "Finding Elimination Order: : : 0it [00:00, ?it/s]\n",
      "0it [00:00, ?it/s]\n",
      "Finding Elimination Order: : : 0it [00:00, ?it/s]\n",
      "0it [00:00, ?it/s]\n",
      "Finding Elimination Order: : : 0it [00:00, ?it/s]\n",
      "0it [00:00, ?it/s]\n",
      "Finding Elimination Order: : : 0it [00:00, ?it/s]\n",
      "0it [00:00, ?it/s]\n",
      "Finding Elimination Order: : : 0it [00:00, ?it/s]\n",
      "0it [00:00, ?it/s]\n",
      "Finding Elimination Order: : : 0it [00:00, ?it/s]\n",
      "0it [00:00, ?it/s]\n",
      "Finding Elimination Order: : : 0it [00:00, ?it/s]\n",
      "0it [00:00, ?it/s]\n",
      "Finding Elimination Order: : : 0it [00:00, ?it/s]\n",
      "0it [00:00, ?it/s]\n",
      "Finding Elimination Order: : : 0it [00:00, ?it/s]\n",
      "0it [00:00, ?it/s]\n",
      "Finding Elimination Order: : : 0it [00:00, ?it/s]\n",
      "0it [00:00, ?it/s]\n",
      "Finding Elimination Order: : : 0it [00:00, ?it/s]\n",
      "0it [00:00, ?it/s]\n",
      "Finding Elimination Order: : : 0it [00:00, ?it/s]\n",
      "0it [00:00, ?it/s]\n",
      "Finding Elimination Order: : : 0it [00:00, ?it/s]\n",
      "0it [00:00, ?it/s]\n",
      "Finding Elimination Order: : : 0it [00:00, ?it/s]\n",
      "0it [00:00, ?it/s]\n",
      "Finding Elimination Order: : : 0it [00:00, ?it/s]\n",
      "0it [00:00, ?it/s]\n",
      "Finding Elimination Order: : : 0it [00:00, ?it/s]\n",
      "0it [00:00, ?it/s]\n",
      "Finding Elimination Order: : : 0it [00:00, ?it/s]\n",
      "0it [00:00, ?it/s]\n",
      "Finding Elimination Order: : : 0it [00:00, ?it/s]\n",
      "0it [00:00, ?it/s]\n",
      "Finding Elimination Order: : : 0it [00:00, ?it/s]\n",
      "0it [00:00, ?it/s]\n",
      "Finding Elimination Order: : : 0it [00:00, ?it/s]\n",
      "0it [00:00, ?it/s]\n",
      "Finding Elimination Order: : : 0it [00:00, ?it/s]\n",
      "0it [00:00, ?it/s]\n",
      "Finding Elimination Order: : : 0it [00:00, ?it/s]\n",
      "0it [00:00, ?it/s]\n",
      "Finding Elimination Order: : : 0it [00:00, ?it/s]\n",
      "0it [00:00, ?it/s]\n",
      "Finding Elimination Order: : : 0it [00:00, ?it/s]\n",
      "0it [00:00, ?it/s]\n",
      "Finding Elimination Order: : : 0it [00:00, ?it/s]\n",
      "0it [00:00, ?it/s]\n",
      "Finding Elimination Order: : : 0it [00:00, ?it/s]\n",
      "0it [00:00, ?it/s]\n",
      "Finding Elimination Order: : : 0it [00:00, ?it/s]\n",
      "0it [00:00, ?it/s]\n",
      "Finding Elimination Order: : : 0it [00:00, ?it/s]\n",
      "0it [00:00, ?it/s]\n",
      "Finding Elimination Order: : : 0it [00:00, ?it/s]\n",
      "0it [00:00, ?it/s]\n",
      "Finding Elimination Order: : : 0it [00:00, ?it/s]\n",
      "0it [00:00, ?it/s]\n",
      "Finding Elimination Order: : : 0it [00:00, ?it/s]\n",
      "0it [00:00, ?it/s]\n",
      "Finding Elimination Order: : : 0it [00:00, ?it/s]\n",
      "0it [00:00, ?it/s]\n",
      "Finding Elimination Order: : : 0it [00:00, ?it/s]\n",
      "0it [00:00, ?it/s]\n",
      "Finding Elimination Order: : : 0it [00:00, ?it/s]\n",
      "0it [00:00, ?it/s]\n",
      "Finding Elimination Order: : : 0it [00:00, ?it/s]\n",
      "0it [00:00, ?it/s]\n",
      "Finding Elimination Order: : : 0it [00:00, ?it/s]\n",
      "0it [00:00, ?it/s]\n",
      "Finding Elimination Order: : : 0it [00:00, ?it/s]\n",
      "0it [00:00, ?it/s]\n",
      "Finding Elimination Order: : : 0it [00:00, ?it/s]\n",
      "0it [00:00, ?it/s]\n",
      "Finding Elimination Order: : : 0it [00:00, ?it/s]\n",
      "0it [00:00, ?it/s]\n",
      "Finding Elimination Order: : : 0it [00:00, ?it/s]\n",
      "0it [00:00, ?it/s]\n",
      "Finding Elimination Order: : : 0it [00:00, ?it/s]\n",
      "0it [00:00, ?it/s]\n",
      "Finding Elimination Order: : : 0it [00:00, ?it/s]\n",
      "0it [00:00, ?it/s]\n",
      "Finding Elimination Order: : : 0it [00:00, ?it/s]\n",
      "0it [00:00, ?it/s]\n",
      "Finding Elimination Order: : : 0it [00:00, ?it/s]\n",
      "0it [00:00, ?it/s]\n",
      "Finding Elimination Order: : : 0it [00:00, ?it/s]\n",
      "0it [00:00, ?it/s]\n",
      "Finding Elimination Order: : : 0it [00:00, ?it/s]\n",
      "0it [00:00, ?it/s]\n",
      "Finding Elimination Order: : : 0it [00:00, ?it/s]\n",
      "0it [00:00, ?it/s]\n",
      "Finding Elimination Order: : : 0it [00:00, ?it/s]\n",
      "0it [00:00, ?it/s]\n",
      "Finding Elimination Order: : : 0it [00:00, ?it/s]\n",
      "0it [00:00, ?it/s]\n",
      "Finding Elimination Order: : : 0it [00:00, ?it/s]\n",
      "0it [00:00, ?it/s]\n",
      "Finding Elimination Order: : : 0it [00:00, ?it/s]\n",
      "0it [00:00, ?it/s]\n",
      "Finding Elimination Order: : : 0it [00:00, ?it/s]\n",
      "0it [00:00, ?it/s]\n",
      "Finding Elimination Order: : : 0it [00:00, ?it/s]\n",
      "0it [00:00, ?it/s]\n",
      "Finding Elimination Order: : : 0it [00:00, ?it/s]\n",
      "0it [00:00, ?it/s]\n",
      "Finding Elimination Order: : : 0it [00:00, ?it/s]\n",
      "0it [00:00, ?it/s]\n",
      "Finding Elimination Order: : : 0it [00:00, ?it/s]\n",
      "0it [00:00, ?it/s]\n",
      "Finding Elimination Order: : : 0it [00:00, ?it/s]\n",
      "0it [00:00, ?it/s]\n",
      "Finding Elimination Order: : : 0it [00:00, ?it/s]\n",
      "0it [00:00, ?it/s]\n",
      "Finding Elimination Order: : : 0it [00:00, ?it/s]\n",
      "0it [00:00, ?it/s]\n",
      "Finding Elimination Order: : : 0it [00:00, ?it/s]\n",
      "0it [00:00, ?it/s]\n",
      "Finding Elimination Order: : : 0it [00:00, ?it/s]\n",
      "0it [00:00, ?it/s]\n",
      "Finding Elimination Order: : : 0it [00:00, ?it/s]\n",
      "0it [00:00, ?it/s]\n",
      "Finding Elimination Order: : : 0it [00:00, ?it/s]\n",
      "0it [00:00, ?it/s]\n",
      "Finding Elimination Order: : : 0it [00:00, ?it/s]\n",
      "0it [00:00, ?it/s]\n",
      "Finding Elimination Order: : : 0it [00:00, ?it/s]\n",
      "0it [00:00, ?it/s]\n",
      "Finding Elimination Order: : : 0it [00:00, ?it/s]\n",
      "0it [00:00, ?it/s]\n",
      "Finding Elimination Order: : : 0it [00:00, ?it/s]\n",
      "0it [00:00, ?it/s]\n",
      "Finding Elimination Order: : : 0it [00:00, ?it/s]\n",
      "0it [00:00, ?it/s]\n",
      "Finding Elimination Order: : : 0it [00:00, ?it/s]\n",
      "0it [00:00, ?it/s]\n",
      "Finding Elimination Order: : : 0it [00:00, ?it/s]\n",
      "0it [00:00, ?it/s]\n",
      "Finding Elimination Order: : : 0it [00:00, ?it/s]\n",
      "0it [00:00, ?it/s]\n",
      "Finding Elimination Order: : : 0it [00:00, ?it/s]\n",
      "0it [00:00, ?it/s]\n",
      "Finding Elimination Order: : : 0it [00:00, ?it/s]\n",
      "0it [00:00, ?it/s]\n",
      "Finding Elimination Order: : : 0it [00:00, ?it/s]\n",
      "0it [00:00, ?it/s]\n",
      "Finding Elimination Order: : : 0it [00:00, ?it/s]\n",
      "0it [00:00, ?it/s]\n",
      "Finding Elimination Order: : : 0it [00:00, ?it/s]\n",
      "0it [00:00, ?it/s]\n",
      "Finding Elimination Order: : : 0it [00:00, ?it/s]\n",
      "0it [00:00, ?it/s]\n",
      "Finding Elimination Order: : : 0it [00:00, ?it/s]\n",
      "0it [00:00, ?it/s]\n",
      "Finding Elimination Order: : : 0it [00:00, ?it/s]\n",
      "0it [00:00, ?it/s]\n",
      "Finding Elimination Order: : : 0it [00:00, ?it/s]\n",
      "0it [00:00, ?it/s]\n",
      "Finding Elimination Order: : : 0it [00:00, ?it/s]\n",
      "0it [00:00, ?it/s]\n",
      "Finding Elimination Order: : : 0it [00:00, ?it/s]\n",
      "0it [00:00, ?it/s]\n",
      "Finding Elimination Order: : : 0it [00:00, ?it/s]\n",
      "0it [00:00, ?it/s]\n",
      "Finding Elimination Order: : : 0it [00:00, ?it/s]\n",
      "0it [00:00, ?it/s]\n",
      "Finding Elimination Order: : : 0it [00:00, ?it/s]\n",
      "0it [00:00, ?it/s]\n",
      "Finding Elimination Order: : : 0it [00:00, ?it/s]\n",
      "0it [00:00, ?it/s]\n",
      "Finding Elimination Order: : : 0it [00:00, ?it/s]\n",
      "0it [00:00, ?it/s]\n",
      "Finding Elimination Order: : : 0it [00:00, ?it/s]\n",
      "0it [00:00, ?it/s]\n",
      "Finding Elimination Order: : : 0it [00:00, ?it/s]\n",
      "0it [00:00, ?it/s]\n",
      "Finding Elimination Order: : : 0it [00:00, ?it/s]\n",
      "0it [00:00, ?it/s]\n",
      "Finding Elimination Order: : : 0it [00:00, ?it/s]\n",
      "0it [00:00, ?it/s]\n",
      "Finding Elimination Order: : : 0it [00:00, ?it/s]\n",
      "0it [00:00, ?it/s]\n",
      "Finding Elimination Order: : : 0it [00:00, ?it/s]\n",
      "0it [00:00, ?it/s]\n",
      "Finding Elimination Order: : : 0it [00:00, ?it/s]\n",
      "0it [00:00, ?it/s]\n",
      "Finding Elimination Order: : : 0it [00:00, ?it/s]\n",
      "0it [00:00, ?it/s]\n",
      "Finding Elimination Order: : : 0it [00:00, ?it/s]\n",
      "0it [00:00, ?it/s]\n",
      "Finding Elimination Order: : : 0it [00:00, ?it/s]\n",
      "0it [00:00, ?it/s]\n",
      "Finding Elimination Order: : : 0it [00:00, ?it/s]\n",
      "0it [00:00, ?it/s]\n",
      "Finding Elimination Order: : : 0it [00:00, ?it/s]\n",
      "0it [00:00, ?it/s]\n",
      "Finding Elimination Order: : : 0it [00:00, ?it/s]\n",
      "0it [00:00, ?it/s]\n",
      "Finding Elimination Order: : : 0it [00:00, ?it/s]\n",
      "0it [00:00, ?it/s]\n",
      "Finding Elimination Order: : : 0it [00:00, ?it/s]\n",
      "0it [00:00, ?it/s]\n",
      "Finding Elimination Order: : : 0it [00:00, ?it/s]\n",
      "0it [00:00, ?it/s]\n",
      "Finding Elimination Order: : : 0it [00:00, ?it/s]\n",
      "0it [00:00, ?it/s]\n",
      "Finding Elimination Order: : : 0it [00:00, ?it/s]\n",
      "0it [00:00, ?it/s]"
     ]
    }
   ],
   "source": [
    "import pandas as pd\n",
    "from pgmpy.inference import VariableElimination\n",
    "from sklearn.metrics import accuracy_score\n",
    "\n",
    "# Load the correct dataset containing the 'Travel' column\n",
    "data = pd.read_csv('travel_data.csv')\n",
    "\n",
    "# Print the dataset columns to verify the presence of 'Travel'\n",
    "print(\"Column names in the dataset:\", data.columns)\n",
    "\n",
    "# Strip any leading/trailing spaces from column names\n",
    "data.columns = data.columns.str.strip()\n",
    "\n",
    "# Ensure 'Travel' column exists\n",
    "if 'Travel' not in data.columns:\n",
    "    raise KeyError(\"The 'Travel' column is not present in the dataset\")\n",
    "\n",
    "# Ensure 'Travel' is a categorical column\n",
    "if not pd.api.types.is_categorical_dtype(data['Travel']):\n",
    "    data['Travel'] = data['Travel'].astype('category')\n",
    "\n",
    "# Create a mapping from categories to integers\n",
    "travel_mapping = {cat: code for code, cat in enumerate(data['Travel'].cat.categories)}\n",
    "travel_inverse_mapping = {code: cat for cat, code in travel_mapping.items()}\n",
    "\n",
    "# Function to predict the travel mode using the Bayesian network\n",
    "def predict_travel_mode(inference, sample):\n",
    "    evidence = sample.drop('Travel').to_dict()\n",
    "    predicted_mode = inference.map_query(variables=['Travel'], evidence=evidence)['Travel']\n",
    "    return predicted_mode\n",
    "\n",
    "# Assuming expert_inference and learned_inference are already defined and trained\n",
    "# Predict using the expert-based Bayesian network\n",
    "expert_predictions = data.apply(lambda x: predict_travel_mode(expert_inference, x), axis=1)\n",
    "\n",
    "# Predict using the learned Bayesian network\n",
    "learned_predictions = data.apply(lambda x: predict_travel_mode(learned_inference, x), axis=1)\n",
    "\n",
    "# Map predictions back to original categories\n",
    "expert_predictions = expert_predictions.map(travel_inverse_mapping)\n",
    "learned_predictions = learned_predictions.map(travel_inverse_mapping)\n",
    "\n",
    "# Calculate the accuracy for each network\n",
    "expert_accuracy = accuracy_score(data['Travel'], expert_predictions)\n",
    "learned_accuracy = accuracy_score(data['Travel'], learned_predictions)\n",
    "\n",
    "print(f\"Accuracy of Expert-Based Bayesian Network: {expert_accuracy:.4f}\")\n",
    "print(f\"Accuracy of Learned Bayesian Network: {learned_accuracy:.4f}\")\n"
   ]
  },
  {
   "cell_type": "markdown",
   "id": "8cc909a8",
   "metadata": {},
   "source": [
    "## 3) Task 3: Machine Learning"
   ]
  },
  {
   "cell_type": "code",
   "execution_count": 151,
   "id": "6b5f4b4e",
   "metadata": {},
   "outputs": [
    {
     "name": "stdout",
     "output_type": "stream",
     "text": [
      "                                                text sentiment\n",
      "0  Yeh! SO happy now. Chrome works on WIndows 7 x64   positive\n",
      "1             doing science homework in the com lab   negative\n",
      "2  7:00 am on saturday morning &amp; i'm about to...  positive\n",
      "3  woo! gosh, its hot here too! But there were po...  positive\n",
      "4  @sarahmonline It'll be great if David's on Cam...  positive\n"
     ]
    }
   ],
   "source": [
    "# Add the necessary packages for Task 3 in this cell\n",
    "import pandas as pd\n",
    "import pandas as pd\n",
    "import re\n",
    "from sklearn.feature_extraction.text import CountVectorizer\n",
    "from sklearn.model_selection import train_test_split\n",
    "from sklearn.naive_bayes import MultinomialNB\n",
    "from sklearn.model_selection import GridSearchCV\n",
    "from sklearn.metrics import accuracy_score, precision_score, recall_score, f1_score\n",
    "from sklearn.linear_model import LogisticRegression\n",
    "\n",
    "\n",
    "# Load the datasets\n",
    "train_data = pd.read_csv('twitter_train.csv')\n",
    "test_data = pd.read_csv('twitter_test.csv')\n",
    "\n",
    "# Display the first few rows of the training data\n",
    "print(train_data.head())\n"
   ]
  },
  {
   "cell_type": "code",
   "execution_count": 5,
   "id": "ba7b5a13-224f-4dab-abd9-f862577460a3",
   "metadata": {},
   "outputs": [
    {
     "name": "stdout",
     "output_type": "stream",
     "text": [
      "X_train shape: (160000, 3000)\n",
      "X_val shape: (40000, 3000)\n",
      "X_test shape: (20000, 3000)\n"
     ]
    }
   ],
   "source": [
    "# Load the datasets\n",
    "train_data = pd.read_csv('twitter_train.csv')\n",
    "test_data = pd.read_csv('twitter_test.csv')\n",
    "\n",
    "# Function to clean the text\n",
    "def clean_text(text):\n",
    "    text = re.sub(r'<.*?>', '', text)  # Remove HTML tags\n",
    "    text = re.sub(r'[^\\w\\s]', '', text)  # Remove special characters\n",
    "    text = text.lower()  # Convert to lowercase\n",
    "    return text\n",
    "\n",
    "# Apply the cleaning function to the text column\n",
    "train_data['text'] = train_data['text'].apply(clean_text)\n",
    "test_data['text'] = test_data['text'].apply(clean_text)\n",
    "\n",
    "# Initialize CountVectorizer with max_features=3000\n",
    "vectorizer = CountVectorizer(max_features=3000, stop_words='english')\n",
    "\n",
    "# Fit and transform the text data to create the document-term matrix\n",
    "X_train = vectorizer.fit_transform(train_data['text'])\n",
    "X_test = vectorizer.transform(test_data['text'])\n",
    "\n",
    "# Get the labels\n",
    "y_train = train_data['sentiment']\n",
    "y_test = test_data['sentiment']\n",
    "\n",
    "# Splitting train data for validation purposes\n",
    "X_train, X_val, y_train, y_val = train_test_split(X_train, y_train, test_size=0.2, random_state=42)\n",
    "\n",
    "# Display the shapes of the resulting matrices\n",
    "print(f'X_train shape: {X_train.shape}')\n",
    "print(f'X_val shape: {X_val.shape}')\n",
    "print(f'X_test shape: {X_test.shape}')\n"
   ]
  },
  {
   "cell_type": "markdown",
   "id": "287e6652",
   "metadata": {},
   "source": [
    "### 3.1. Preprocess the data"
   ]
  },
  {
   "cell_type": "code",
   "execution_count": 6,
   "id": "56974d3e",
   "metadata": {},
   "outputs": [
    {
     "name": "stdout",
     "output_type": "stream",
     "text": [
      "X_train shape: (160000, 3000)\n",
      "X_val shape: (40000, 3000)\n",
      "X_test shape: (20000, 3000)\n"
     ]
    }
   ],
   "source": [
    "# Load the datasets\n",
    "train_data = pd.read_csv('twitter_train.csv')\n",
    "test_data = pd.read_csv('twitter_test.csv')\n",
    "\n",
    "# Function to clean the text\n",
    "def clean_text(text):\n",
    "    text = re.sub(r'<.*?>', '', text)  # Remove HTML tags\n",
    "    text = re.sub(r'[^\\w\\s]', '', text)  # Remove special characters\n",
    "    text = text.lower()  # Convert to lowercase\n",
    "    return text\n",
    "\n",
    "# Apply the cleaning function to the text column\n",
    "train_data['text'] = train_data['text'].apply(clean_text)\n",
    "test_data['text'] = test_data['text'].apply(clean_text)\n",
    "\n",
    "# Initialize CountVectorizer with max_features=3000\n",
    "vectorizer = CountVectorizer(max_features=3000, stop_words='english')\n",
    "\n",
    "# Fit and transform the text data to create the document-term matrix\n",
    "X_train = vectorizer.fit_transform(train_data['text'])\n",
    "X_test = vectorizer.transform(test_data['text'])\n",
    "\n",
    "# Get the labels\n",
    "y_train = train_data['sentiment']\n",
    "y_test = test_data['sentiment']\n",
    "\n",
    "# Splitting train data for validation purposes\n",
    "X_train, X_val, y_train, y_val = train_test_split(X_train, y_train, test_size=0.2, random_state=42)\n",
    "\n",
    "# Display the shapes of the resulting matrices\n",
    "print(f'X_train shape: {X_train.shape}')\n",
    "print(f'X_val shape: {X_val.shape}')\n",
    "print(f'X_test shape: {X_test.shape}')\n"
   ]
  },
  {
   "cell_type": "markdown",
   "id": "09fc327b",
   "metadata": {},
   "source": [
    "### 3.2. Build a Naive Bayes Model"
   ]
  },
  {
   "cell_type": "code",
   "execution_count": 7,
   "id": "3d5c9ef5",
   "metadata": {},
   "outputs": [
    {
     "name": "stdout",
     "output_type": "stream",
     "text": [
      "Validation Accuracy: 0.7453\n",
      "Validation Precision: 0.7562\n",
      "Validation Recall: 0.7309\n",
      "Validation F1 Score: 0.7433\n"
     ]
    }
   ],
   "source": [
    "# Initialize the Naive Bayes model\n",
    "nb = MultinomialNB()\n",
    "\n",
    "# Set up the parameter grid for GridSearchCV\n",
    "param_grid = {\n",
    "    'alpha': [0.1, 0.5, 1.0]  # Smoothing parameter\n",
    "}\n",
    "\n",
    "# Initialize GridSearchCV\n",
    "grid_search = GridSearchCV(nb, param_grid, cv=5, n_jobs=1, scoring='accuracy')\n",
    "\n",
    "# Fit the model on the training data\n",
    "grid_search.fit(X_train, y_train)\n",
    "\n",
    "# Get the best model from grid search\n",
    "best_nb = grid_search.best_estimator_\n",
    "\n",
    "# Predict on the validation set\n",
    "y_val_pred = best_nb.predict(X_val)\n",
    "\n",
    "# Evaluate the model\n",
    "accuracy = accuracy_score(y_val, y_val_pred)\n",
    "precision = precision_score(y_val, y_val_pred, pos_label='positive')\n",
    "recall = recall_score(y_val, y_val_pred, pos_label='positive')\n",
    "f1 = f1_score(y_val, y_val_pred, pos_label='positive')\n",
    "\n",
    "# Display the evaluation metrics\n",
    "print(f'Validation Accuracy: {accuracy:.4f}')\n",
    "print(f'Validation Precision: {precision:.4f}')\n",
    "print(f'Validation Recall: {recall:.4f}')\n",
    "print(f'Validation F1 Score: {f1:.4f}')\n"
   ]
  },
  {
   "cell_type": "markdown",
   "id": "dd7a76d9",
   "metadata": {},
   "source": [
    "### 3.3. Evaluate the Resulting Model"
   ]
  },
  {
   "cell_type": "code",
   "execution_count": 112,
   "id": "61ba770d",
   "metadata": {},
   "outputs": [
    {
     "name": "stdout",
     "output_type": "stream",
     "text": [
      "Test Accuracy (Naive Bayes): 0.7498\n",
      "Test Precision (Naive Bayes): 0.7543\n",
      "Test Recall (Naive Bayes): 0.7410\n",
      "Test F1 Score (Naive Bayes): 0.7476\n"
     ]
    }
   ],
   "source": [
    "# Predict on the test set using the best Naive Bayes model\n",
    "y_test_pred_nb = best_nb.predict(X_test)\n",
    "\n",
    "# Evaluate the Naive Bayes model on the test set\n",
    "accuracy_nb = accuracy_score(y_test, y_test_pred_nb)\n",
    "precision_nb = precision_score(y_test, y_test_pred_nb, pos_label='positive')\n",
    "recall_nb = recall_score(y_test, y_test_pred_nb, pos_label='positive')\n",
    "f1_nb = f1_score(y_test, y_test_pred_nb, pos_label='positive')\n",
    "\n",
    "# Display the evaluation metrics for the Naive Bayes model\n",
    "print(f'Test Accuracy (Naive Bayes): {accuracy_nb:.4f}')\n",
    "print(f'Test Precision (Naive Bayes): {precision_nb:.4f}')\n",
    "print(f'Test Recall (Naive Bayes): {recall_nb:.4f}')\n",
    "print(f'Test F1 Score (Naive Bayes): {f1_nb:.4f}')\n"
   ]
  },
  {
   "cell_type": "markdown",
   "id": "fdf0960f",
   "metadata": {},
   "source": [
    "### 3.4. Run Another Machine Learning Algorithm"
   ]
  },
  {
   "cell_type": "code",
   "execution_count": 8,
   "id": "0418bb8e",
   "metadata": {},
   "outputs": [
    {
     "name": "stdout",
     "output_type": "stream",
     "text": [
      "Validation Accuracy (Logistic Regression): 0.7528\n",
      "Validation Precision (Logistic Regression): 0.7398\n",
      "Validation Recall (Logistic Regression): 0.7865\n",
      "Validation F1 Score (Logistic Regression): 0.7624\n",
      "Test Accuracy (Logistic Regression): 0.7600\n",
      "Test Precision (Logistic Regression): 0.7388\n",
      "Test Recall (Logistic Regression): 0.8043\n",
      "Test F1 Score (Logistic Regression): 0.7701\n"
     ]
    }
   ],
   "source": [
    "# Initialize the Logistic Regression model\n",
    "log_reg = LogisticRegression(max_iter=1000)\n",
    "\n",
    "# Train the Logistic Regression model on the training data\n",
    "log_reg.fit(X_train, y_train)\n",
    "\n",
    "# Predict on the validation set using the Logistic Regression model\n",
    "y_val_pred_lr = log_reg.predict(X_val)\n",
    "\n",
    "# Evaluate the Logistic Regression model on the validation set\n",
    "accuracy_lr = accuracy_score(y_val, y_val_pred_lr)\n",
    "precision_lr = precision_score(y_val, y_val_pred_lr, pos_label='positive')\n",
    "recall_lr = recall_score(y_val, y_val_pred_lr, pos_label='positive')\n",
    "f1_lr = f1_score(y_val, y_val_pred_lr, pos_label='positive')\n",
    "\n",
    "# Display the evaluation metrics for the Logistic Regression model on the validation set\n",
    "print(f'Validation Accuracy (Logistic Regression): {accuracy_lr:.4f}')\n",
    "print(f'Validation Precision (Logistic Regression): {precision_lr:.4f}')\n",
    "print(f'Validation Recall (Logistic Regression): {recall_lr:.4f}')\n",
    "print(f'Validation F1 Score (Logistic Regression): {f1_lr:.4f}')\n",
    "\n",
    "# Predict on the test set using the Logistic Regression model\n",
    "y_test_pred_lr = log_reg.predict(X_test)\n",
    "\n",
    "# Evaluate the Logistic Regression model on the test set\n",
    "accuracy_lr_test = accuracy_score(y_test, y_test_pred_lr)\n",
    "precision_lr_test = precision_score(y_test, y_test_pred_lr, pos_label='positive')\n",
    "recall_lr_test = recall_score(y_test, y_test_pred_lr, pos_label='positive')\n",
    "f1_lr_test = f1_score(y_test, y_test_pred_lr, pos_label='positive')\n",
    "\n",
    "# Display the evaluation metrics for the Logistic Regression model on the test set\n",
    "print(f'Test Accuracy (Logistic Regression): {accuracy_lr_test:.4f}')\n",
    "print(f'Test Precision (Logistic Regression): {precision_lr_test:.4f}')\n",
    "print(f'Test Recall (Logistic Regression): {recall_lr_test:.4f}')\n",
    "print(f'Test F1 Score (Logistic Regression): {f1_lr_test:.4f}')\n"
   ]
  }
 ],
 "metadata": {
  "kernelspec": {
   "display_name": "Python 3 (ipykernel)",
   "language": "python",
   "name": "python3"
  },
  "language_info": {
   "codemirror_mode": {
    "name": "ipython",
    "version": 3
   },
   "file_extension": ".py",
   "mimetype": "text/x-python",
   "name": "python",
   "nbconvert_exporter": "python",
   "pygments_lexer": "ipython3",
   "version": "3.11.7"
  }
 },
 "nbformat": 4,
 "nbformat_minor": 5
}
